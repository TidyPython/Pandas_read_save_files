{
 "cells": [
  {
   "cell_type": "markdown",
   "metadata": {},
   "source": [
    "# How to read Excel files with multiple sheets with Pandas (Python)\n",
    "https://tidypython.com/how-to-read-excel-files-with-multiple-sheets-with-pandas-python/"
   ]
  },
  {
   "cell_type": "code",
   "execution_count": 12,
   "metadata": {},
   "outputs": [
    {
     "name": "stdout",
     "output_type": "stream",
     "text": [
      "   Unnamed: 0  Brand Location  Year\n",
      "0           0  Tesla       CA  2019\n",
      "1           1  Tesla       CA  2018\n",
      "2           2  Tesla       NY  2020\n",
      "3           3   Ford       MA  2019\n"
     ]
    }
   ],
   "source": [
    "df = pd.read_excel('Test_sheets.xlsx')\n",
    "print(df)"
   ]
  },
  {
   "cell_type": "code",
   "execution_count": 19,
   "metadata": {},
   "outputs": [
    {
     "name": "stdout",
     "output_type": "stream",
     "text": [
      "{'Sheet1':    Unnamed: 0  Brand Location  Year\n",
      "0           0  Tesla       CA  2019\n",
      "1           1  Tesla       CA  2018\n",
      "2           2  Tesla       NY  2020\n",
      "3           3   Ford       MA  2019, 'Sheet2':    Unnamed: 0  Brand Location  Year\n",
      "0           0  Tesla       CT  2019\n",
      "1           1  Tesla       CT  2018\n",
      "2           2   Ford       MA  2020\n",
      "3           3   Ford       WA  2019}\n",
      "<class 'dict'>\n"
     ]
    }
   ],
   "source": [
    "import pandas as pd\n",
    "\n",
    "# Pandas version >= 0.21.0\n",
    "df = pd.read_excel('Test_sheets.xlsx', sheet_name=None)\n",
    "print(df)\n",
    "print(type(df))\n"
   ]
  },
  {
   "cell_type": "code",
   "execution_count": 26,
   "metadata": {},
   "outputs": [
    {
     "name": "stdout",
     "output_type": "stream",
     "text": [
      "['Sheet1', 'Sheet2']\n"
     ]
    }
   ],
   "source": [
    "df = pd.ExcelFile('Test_sheets.xlsx')\n",
    "\n",
    "# all the names of the sheets \n",
    "print(df.sheet_names)\n",
    "\n"
   ]
  },
  {
   "cell_type": "code",
   "execution_count": 23,
   "metadata": {},
   "outputs": [
    {
     "name": "stdout",
     "output_type": "stream",
     "text": [
      "   Unnamed: 0  Brand Location  Year\n",
      "0           0  Tesla       CA  2019\n",
      "1           1  Tesla       CA  2018\n",
      "2           2  Tesla       NY  2020\n",
      "3           3   Ford       MA  2019\n"
     ]
    }
   ],
   "source": [
    "# just read Sheet1 as a dataframe:\n",
    "df_Sheet1 = pd.read_excel(df, sheet_name=\"Sheet1\")\n",
    "print(df_sheet1)"
   ]
  },
  {
   "cell_type": "code",
   "execution_count": 27,
   "metadata": {},
   "outputs": [
    {
     "name": "stdout",
     "output_type": "stream",
     "text": [
      "   Unnamed: 0  Brand Location  Year\n",
      "0           0  Tesla       CA  2019\n",
      "1           1  Tesla       CA  2018\n",
      "2           2  Tesla       NY  2020\n",
      "3           3   Ford       MA  2019\n"
     ]
    }
   ],
   "source": [
    "df_Sheet1 = df.parse(0)\n",
    "print(df_Sheet1)"
   ]
  }
 ],
 "metadata": {
  "kernelspec": {
   "display_name": "Python 3",
   "language": "python",
   "name": "python3"
  },
  "language_info": {
   "codemirror_mode": {
    "name": "ipython",
    "version": 3
   },
   "file_extension": ".py",
   "mimetype": "text/x-python",
   "name": "python",
   "nbconvert_exporter": "python",
   "pygments_lexer": "ipython3",
   "version": "3.7.6"
  }
 },
 "nbformat": 4,
 "nbformat_minor": 4
}
