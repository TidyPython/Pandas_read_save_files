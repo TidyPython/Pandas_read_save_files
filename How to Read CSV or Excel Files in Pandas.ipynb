{
 "cells": [
  {
   "cell_type": "markdown",
   "metadata": {},
   "source": [
    "# How to Read CSV or Excel Files in Pandas\n",
    "https://tidypython.com/how-to-read-csv-or-excel-files-in-pandas/"
   ]
  },
  {
   "cell_type": "code",
   "execution_count": 8,
   "metadata": {},
   "outputs": [
    {
     "name": "stdout",
     "output_type": "stream",
     "text": [
      "   Unnamed: 0  Brand Location  Year    DateTime\n",
      "0           0  Tesla       CA  2019  2019-03-10\n",
      "1           1  Tesla       CA  2018  2018-03-11\n",
      "2           2  Tesla       NY  2020  2020-01-01\n",
      "3           3   Ford       MA  2019  2019-03-24\n"
     ]
    }
   ],
   "source": [
    "import pandas as pd\n",
    "df=pd.read_csv(\"car_data.csv\")\n",
    "print(df)"
   ]
  },
  {
   "cell_type": "code",
   "execution_count": 7,
   "metadata": {},
   "outputs": [
    {
     "name": "stdout",
     "output_type": "stream",
     "text": [
      "   Unnamed: 0  Brand Location  Year\n",
      "0           0  Tesla       CA  2019\n",
      "1           1  Tesla       CA  2018\n",
      "2           2  Tesla       NY  2020\n",
      "3           3   Ford       MA  2019\n"
     ]
    }
   ],
   "source": [
    "df=pd.read_excel(\"Test_sheets.xlsx\")\n",
    "print(df)"
   ]
  },
  {
   "cell_type": "code",
   "execution_count": null,
   "metadata": {},
   "outputs": [],
   "source": []
  }
 ],
 "metadata": {
  "kernelspec": {
   "display_name": "Python 3",
   "language": "python",
   "name": "python3"
  },
  "language_info": {
   "codemirror_mode": {
    "name": "ipython",
    "version": 3
   },
   "file_extension": ".py",
   "mimetype": "text/x-python",
   "name": "python",
   "nbconvert_exporter": "python",
   "pygments_lexer": "ipython3",
   "version": "3.7.6"
  }
 },
 "nbformat": 4,
 "nbformat_minor": 4
}
